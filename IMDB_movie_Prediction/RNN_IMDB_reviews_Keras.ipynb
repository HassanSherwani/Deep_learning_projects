{
 "cells": [
  {
   "cell_type": "markdown",
   "metadata": {},
   "source": [
    "# IMBD movie reviews prediction"
   ]
  },
  {
   "cell_type": "code",
   "execution_count": 1,
   "metadata": {},
   "outputs": [],
   "source": [
    "import warnings\n",
    "warnings.filterwarnings('ignore')"
   ]
  },
  {
   "cell_type": "code",
   "execution_count": 2,
   "metadata": {},
   "outputs": [],
   "source": [
    "from tensorflow.keras.preprocessing import sequence\n",
    "from tensorflow.keras.models import Sequential\n",
    "from tensorflow.keras.layers import Dense, Embedding\n",
    "from tensorflow.keras.layers import LSTM\n",
    "from tensorflow.keras.datasets import imdb"
   ]
  },
  {
   "cell_type": "code",
   "execution_count": 3,
   "metadata": {},
   "outputs": [
    {
     "name": "stdout",
     "output_type": "stream",
     "text": [
      "Loading data...\n"
     ]
    }
   ],
   "source": [
    "print('Loading data...')\n",
    "(x_train, y_train), (x_test, y_test) = imdb.load_data(num_words=20000)"
   ]
  },
  {
   "cell_type": "code",
   "execution_count": 4,
   "metadata": {},
   "outputs": [
    {
     "data": {
      "text/plain": [
       "[1, 14, 22, 16, 43, 530, 973, 1622, 1385, 65]"
      ]
     },
     "execution_count": 4,
     "metadata": {},
     "output_type": "execute_result"
    }
   ],
   "source": [
    "list(x_train[0][0:10])"
   ]
  },
  {
   "cell_type": "code",
   "execution_count": 6,
   "metadata": {},
   "outputs": [
    {
     "data": {
      "text/plain": [
       "array([1, 0, 0, 1, 0], dtype=int64)"
      ]
     },
     "execution_count": 6,
     "metadata": {},
     "output_type": "execute_result"
    }
   ],
   "source": [
    "y_train[0:5]"
   ]
  },
  {
   "cell_type": "code",
   "execution_count": 7,
   "metadata": {},
   "outputs": [],
   "source": [
    "x_train = sequence.pad_sequences(x_train, maxlen=80)\n",
    "x_test = sequence.pad_sequences(x_test, maxlen=80)"
   ]
  },
  {
   "cell_type": "code",
   "execution_count": 8,
   "metadata": {},
   "outputs": [],
   "source": [
    "model = Sequential()\n",
    "model.add(Embedding(20000, 128))\n",
    "model.add(LSTM(128, dropout=0.2, recurrent_dropout=0.2))\n",
    "model.add(Dense(1, activation='sigmoid'))"
   ]
  },
  {
   "cell_type": "code",
   "execution_count": 9,
   "metadata": {},
   "outputs": [],
   "source": [
    "model.compile(loss='binary_crossentropy',\n",
    "              optimizer='adam',\n",
    "              metrics=['accuracy'])"
   ]
  },
  {
   "cell_type": "markdown",
   "metadata": {},
   "source": [
    "## Model"
   ]
  },
  {
   "cell_type": "code",
   "execution_count": 10,
   "metadata": {},
   "outputs": [
    {
     "name": "stdout",
     "output_type": "stream",
     "text": [
      "Train on 25000 samples, validate on 25000 samples\n",
      "Epoch 1/15\n",
      " - 161s - loss: 0.4628 - acc: 0.7866 - val_loss: 0.4626 - val_acc: 0.7809\n",
      "Epoch 2/15\n",
      " - 136s - loss: 0.2994 - acc: 0.8778 - val_loss: 0.3942 - val_acc: 0.8349\n",
      "Epoch 3/15\n",
      " - 147s - loss: 0.2179 - acc: 0.9161 - val_loss: 0.4177 - val_acc: 0.8300\n",
      "Epoch 4/15\n",
      " - 146s - loss: 0.1597 - acc: 0.9407 - val_loss: 0.4617 - val_acc: 0.8294\n",
      "Epoch 5/15\n",
      " - 151s - loss: 0.1141 - acc: 0.9578 - val_loss: 0.5750 - val_acc: 0.8202\n",
      "Epoch 6/15\n",
      " - 152s - loss: 0.0816 - acc: 0.9720 - val_loss: 0.6090 - val_acc: 0.8221\n",
      "Epoch 7/15\n",
      " - 154s - loss: 0.0616 - acc: 0.9780 - val_loss: 0.7303 - val_acc: 0.8035\n",
      "Epoch 8/15\n",
      " - 151s - loss: 0.0497 - acc: 0.9832 - val_loss: 0.7997 - val_acc: 0.8159\n",
      "Epoch 9/15\n",
      " - 152s - loss: 0.0312 - acc: 0.9900 - val_loss: 0.8818 - val_acc: 0.8181\n",
      "Epoch 10/15\n",
      " - 152s - loss: 0.0253 - acc: 0.9923 - val_loss: 0.9051 - val_acc: 0.8166\n",
      "Epoch 11/15\n",
      " - 155s - loss: 0.0246 - acc: 0.9922 - val_loss: 0.9051 - val_acc: 0.8093\n",
      "Epoch 12/15\n",
      " - 163s - loss: 0.0218 - acc: 0.9928 - val_loss: 1.0421 - val_acc: 0.8124\n",
      "Epoch 13/15\n",
      " - 157s - loss: 0.0151 - acc: 0.9955 - val_loss: 1.0954 - val_acc: 0.8086\n",
      "Epoch 14/15\n",
      " - 157s - loss: 0.0169 - acc: 0.9947 - val_loss: 1.1275 - val_acc: 0.8137\n",
      "Epoch 15/15\n",
      " - 159s - loss: 0.0123 - acc: 0.9961 - val_loss: 1.1374 - val_acc: 0.8122\n"
     ]
    },
    {
     "data": {
      "text/plain": [
       "<tensorflow.python.keras.callbacks.History at 0x1c86f72e4a8>"
      ]
     },
     "execution_count": 10,
     "metadata": {},
     "output_type": "execute_result"
    }
   ],
   "source": [
    "model.fit(x_train, y_train,\n",
    "          batch_size=32,\n",
    "          epochs=15,\n",
    "          verbose=2,\n",
    "          validation_data=(x_test, y_test))"
   ]
  },
  {
   "cell_type": "markdown",
   "metadata": {},
   "source": [
    "**Overfitting**"
   ]
  },
  {
   "cell_type": "markdown",
   "metadata": {},
   "source": [
    "## Checking accuracy"
   ]
  },
  {
   "cell_type": "code",
   "execution_count": 11,
   "metadata": {},
   "outputs": [
    {
     "name": "stdout",
     "output_type": "stream",
     "text": [
      "Test score: 1.1374038902404904\n",
      "Test accuracy: 0.81216\n"
     ]
    }
   ],
   "source": [
    "score, acc = model.evaluate(x_test, y_test,\n",
    "                            batch_size=32,\n",
    "                            verbose=2)\n",
    "print('Test score:', score)\n",
    "print('Test accuracy:', acc)"
   ]
  }
 ],
 "metadata": {
  "kernelspec": {
   "display_name": "Python 3",
   "language": "python",
   "name": "python3"
  },
  "language_info": {
   "codemirror_mode": {
    "name": "ipython",
    "version": 3
   },
   "file_extension": ".py",
   "mimetype": "text/x-python",
   "name": "python",
   "nbconvert_exporter": "python",
   "pygments_lexer": "ipython3",
   "version": "3.6.5"
  }
 },
 "nbformat": 4,
 "nbformat_minor": 2
}
