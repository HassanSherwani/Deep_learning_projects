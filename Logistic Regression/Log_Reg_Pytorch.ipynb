{
 "cells": [
  {
   "cell_type": "markdown",
   "metadata": {},
   "source": [
    "# Logistic Regression"
   ]
  },
  {
   "cell_type": "code",
   "execution_count": 1,
   "metadata": {},
   "outputs": [],
   "source": [
    "import warnings\n",
    "warnings.filterwarnings('ignore')"
   ]
  },
  {
   "cell_type": "code",
   "execution_count": 2,
   "metadata": {},
   "outputs": [],
   "source": [
    "import torch\n",
    "from torch.autograd import Variable\n",
    "import torch.nn.functional as F"
   ]
  },
  {
   "cell_type": "code",
   "execution_count": 3,
   "metadata": {},
   "outputs": [],
   "source": [
    "x_data = Variable(torch.Tensor([[1.0], [2.0], [3.0], [4.0]]))\n",
    "y_data = Variable(torch.Tensor([[0.], [0.], [1.], [1.]]))"
   ]
  },
  {
   "cell_type": "markdown",
   "metadata": {},
   "source": [
    "## 1-Designing the model using class"
   ]
  },
  {
   "cell_type": "code",
   "execution_count": 4,
   "metadata": {},
   "outputs": [],
   "source": [
    "class Model(torch.nn.Module):\n",
    "\n",
    "    def __init__(self):\n",
    "        \"\"\"\n",
    "        In the constructor we instantiate nn.Linear module\n",
    "        \"\"\"\n",
    "        super(Model, self).__init__()\n",
    "        self.linear = torch.nn.Linear(1, 1)  # One in and one out\n",
    "\n",
    "    def forward(self, x):\n",
    "        \"\"\"\n",
    "        In the forward function we accept a Variable of input data and we must return\n",
    "        a Variable of output data.\n",
    "        \"\"\"\n",
    "        y_pred = F.sigmoid(self.linear(x))\n",
    "        return y_pred\n",
    "\n",
    "# our model\n",
    "model = Model()"
   ]
  },
  {
   "cell_type": "markdown",
   "metadata": {},
   "source": [
    "## 2-Construct loss and optimizer"
   ]
  },
  {
   "cell_type": "code",
   "execution_count": 5,
   "metadata": {},
   "outputs": [],
   "source": [
    "criterion = torch.nn.BCELoss(size_average=True)\n",
    "optimizer = torch.optim.SGD(model.parameters(), lr=0.01)"
   ]
  },
  {
   "cell_type": "markdown",
   "metadata": {},
   "source": [
    "## 3-Training Cycle\n",
    " - Forward\n",
    " - backward\n",
    " - update"
   ]
  },
  {
   "cell_type": "code",
   "execution_count": 6,
   "metadata": {},
   "outputs": [
    {
     "name": "stdout",
     "output_type": "stream",
     "text": [
      "0 0.9843151569366455\n",
      "1 0.979278028011322\n",
      "2 0.9742815494537354\n",
      "3 0.9693251252174377\n",
      "4 0.9644098877906799\n",
      "5 0.9595353603363037\n",
      "6 0.9547023773193359\n",
      "7 0.9499109983444214\n",
      "8 0.945161759853363\n",
      "9 0.9404547810554504\n",
      "10 0.9357901811599731\n",
      "11 0.9311683773994446\n",
      "12 0.9265896081924438\n",
      "13 0.9220542311668396\n",
      "14 0.9175621271133423\n",
      "15 0.9131139516830444\n",
      "16 0.9087100028991699\n",
      "17 0.9043499231338501\n",
      "18 0.9000338912010193\n",
      "19 0.8957629203796387\n",
      "20 0.89153653383255\n",
      "21 0.8873551487922668\n",
      "22 0.8832188248634338\n",
      "23 0.879127562046051\n",
      "24 0.8750817179679871\n",
      "25 0.8710813522338867\n",
      "26 0.86712646484375\n",
      "27 0.8632172346115112\n",
      "28 0.8593538999557495\n",
      "29 0.8555362820625305\n",
      "30 0.8517646193504333\n",
      "31 0.8480387926101685\n",
      "32 0.8443589806556702\n",
      "33 0.8407248258590698\n",
      "34 0.83713698387146\n",
      "35 0.8335950374603271\n",
      "36 0.8300989866256714\n",
      "37 0.8266488313674927\n",
      "38 0.8232443928718567\n",
      "39 0.8198859691619873\n",
      "40 0.8165731430053711\n",
      "41 0.8133058547973633\n",
      "42 0.8100842237472534\n",
      "43 0.8069078922271729\n",
      "44 0.8037768602371216\n",
      "45 0.800690770149231\n",
      "46 0.7976496815681458\n",
      "47 0.7946533560752869\n",
      "48 0.7917014360427856\n",
      "49 0.7887941002845764\n",
      "50 0.7859308123588562\n",
      "51 0.7831114530563354\n",
      "52 0.7803356647491455\n",
      "53 0.7776033282279968\n",
      "54 0.7749140858650208\n",
      "55 0.7722678780555725\n",
      "56 0.7696639895439148\n",
      "57 0.7671024799346924\n",
      "58 0.7645828127861023\n",
      "59 0.762104868888855\n",
      "60 0.7596681714057922\n",
      "61 0.7572723627090454\n",
      "62 0.7549171447753906\n",
      "63 0.7526019811630249\n",
      "64 0.7503268122673035\n",
      "65 0.7480909824371338\n",
      "66 0.7458941340446472\n",
      "67 0.7437359690666199\n",
      "68 0.7416160106658936\n",
      "69 0.7395338416099548\n",
      "70 0.737488865852356\n",
      "71 0.7354809641838074\n",
      "72 0.7335095405578613\n",
      "73 0.7315740585327148\n",
      "74 0.7296742796897888\n",
      "75 0.7278095483779907\n",
      "76 0.7259793877601624\n",
      "77 0.7241834998130798\n",
      "78 0.7224211692810059\n",
      "79 0.7206922173500061\n",
      "80 0.7189959287643433\n",
      "81 0.7173319458961487\n",
      "82 0.7156997919082642\n",
      "83 0.7140989303588867\n",
      "84 0.7125289440155029\n",
      "85 0.7109891176223755\n",
      "86 0.7094791531562805\n",
      "87 0.707998514175415\n",
      "88 0.7065467834472656\n",
      "89 0.7051234245300293\n",
      "90 0.7037279009819031\n",
      "91 0.702359676361084\n",
      "92 0.7010183930397034\n",
      "93 0.6997034549713135\n",
      "94 0.6984145641326904\n",
      "95 0.6971510052680969\n",
      "96 0.6959124207496643\n",
      "97 0.6946983933448792\n",
      "98 0.6935083866119385\n",
      "99 0.6923417448997498\n"
     ]
    }
   ],
   "source": [
    "for epoch in range(100):\n",
    "        # Forward pass: Compute predicted y by passing x to the model\n",
    "    y_pred = model(x_data)\n",
    "\n",
    "    # Compute and print loss\n",
    "    loss = criterion(y_pred, y_data)\n",
    "    print(epoch, loss.item())\n",
    "\n",
    "    # Zero gradients, perform a backward pass, and update the weights.\n",
    "    optimizer.zero_grad()\n",
    "    loss.backward()\n",
    "    optimizer.step()"
   ]
  },
  {
   "cell_type": "markdown",
   "metadata": {},
   "source": [
    "## After training"
   ]
  },
  {
   "cell_type": "code",
   "execution_count": 7,
   "metadata": {},
   "outputs": [
    {
     "name": "stdout",
     "output_type": "stream",
     "text": [
      "predict 1 hour  1.0 tensor(1, dtype=torch.uint8)\n",
      "predict 7 hours 7.0 tensor(1, dtype=torch.uint8)\n"
     ]
    }
   ],
   "source": [
    "hour_var = Variable(torch.Tensor([[1.0]]))\n",
    "print(\"predict 1 hour \", 1.0, model(hour_var).data[0][0] > 0.5)\n",
    "hour_var = Variable(torch.Tensor([[7.0]]))\n",
    "print(\"predict 7 hours\", 7.0, model(hour_var).data[0][0] > 0.5)"
   ]
  }
 ],
 "metadata": {
  "kernelspec": {
   "display_name": "Python 3",
   "language": "python",
   "name": "python3"
  },
  "language_info": {
   "codemirror_mode": {
    "name": "ipython",
    "version": 3
   },
   "file_extension": ".py",
   "mimetype": "text/x-python",
   "name": "python",
   "nbconvert_exporter": "python",
   "pygments_lexer": "ipython3",
   "version": "3.6.5"
  }
 },
 "nbformat": 4,
 "nbformat_minor": 2
}
