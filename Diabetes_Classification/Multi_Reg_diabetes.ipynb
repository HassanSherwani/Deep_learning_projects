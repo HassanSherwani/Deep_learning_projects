{
 "cells": [
  {
   "cell_type": "markdown",
   "metadata": {},
   "source": [
    "# Diabetes Problem"
   ]
  },
  {
   "cell_type": "code",
   "execution_count": 1,
   "metadata": {},
   "outputs": [],
   "source": [
    "import warnings\n",
    "warnings.filterwarnings('ignore')"
   ]
  },
  {
   "cell_type": "code",
   "execution_count": 2,
   "metadata": {},
   "outputs": [],
   "source": [
    "import torch\n",
    "from torch.autograd import Variable\n",
    "import numpy as np"
   ]
  },
  {
   "cell_type": "code",
   "execution_count": 3,
   "metadata": {},
   "outputs": [],
   "source": [
    "xy = np.loadtxt('diabetes.csv', delimiter=',', dtype=np.float32)"
   ]
  },
  {
   "cell_type": "code",
   "execution_count": 4,
   "metadata": {},
   "outputs": [],
   "source": [
    "x_data = Variable(torch.from_numpy(xy[:, 0:-1]))\n",
    "y_data = Variable(torch.from_numpy(xy[:, [-1]]))"
   ]
  },
  {
   "cell_type": "code",
   "execution_count": 5,
   "metadata": {},
   "outputs": [
    {
     "name": "stdout",
     "output_type": "stream",
     "text": [
      "tensor([[-0.2941,  0.4874,  0.1803, -0.2929,  0.0000,  0.0015, -0.5312, -0.0333],\n",
      "        [-0.8824, -0.1457,  0.0820, -0.4141,  0.0000, -0.2072, -0.7669, -0.6667],\n",
      "        [-0.0588,  0.8392,  0.0492,  0.0000,  0.0000, -0.3055, -0.4927, -0.6333],\n",
      "        [-0.8824, -0.1055,  0.0820, -0.5354, -0.7778, -0.1624, -0.9240,  0.0000],\n",
      "        [ 0.0000,  0.3769, -0.3443, -0.2929, -0.6028,  0.2846,  0.8873, -0.6000]])\n"
     ]
    }
   ],
   "source": [
    "print(x_data[0:5])"
   ]
  },
  {
   "cell_type": "code",
   "execution_count": 6,
   "metadata": {},
   "outputs": [
    {
     "name": "stdout",
     "output_type": "stream",
     "text": [
      "tensor([[0.],\n",
      "        [1.],\n",
      "        [0.],\n",
      "        [1.],\n",
      "        [0.]])\n"
     ]
    }
   ],
   "source": [
    "print(y_data[0:5])"
   ]
  },
  {
   "cell_type": "code",
   "execution_count": 7,
   "metadata": {},
   "outputs": [
    {
     "data": {
      "text/plain": [
       "torch.Tensor"
      ]
     },
     "execution_count": 7,
     "metadata": {},
     "output_type": "execute_result"
    }
   ],
   "source": [
    "type(x_data)"
   ]
  },
  {
   "cell_type": "code",
   "execution_count": 8,
   "metadata": {},
   "outputs": [
    {
     "data": {
      "text/plain": [
       "torch.Size([759, 8])"
      ]
     },
     "execution_count": 8,
     "metadata": {},
     "output_type": "execute_result"
    }
   ],
   "source": [
    "x_data.shape"
   ]
  },
  {
   "cell_type": "code",
   "execution_count": 9,
   "metadata": {},
   "outputs": [
    {
     "data": {
      "text/plain": [
       "torch.Size([759, 1])"
      ]
     },
     "execution_count": 9,
     "metadata": {},
     "output_type": "execute_result"
    }
   ],
   "source": [
    "y_data.shape"
   ]
  },
  {
   "cell_type": "markdown",
   "metadata": {},
   "source": [
    "## 1-Designing the model using class"
   ]
  },
  {
   "cell_type": "code",
   "execution_count": 10,
   "metadata": {},
   "outputs": [],
   "source": [
    "class Model(torch.nn.Module):\n",
    "\n",
    "    def __init__(self):\n",
    "        \"\"\"\n",
    "        In the constructor we instantiate two nn.Linear module\n",
    "        Check pattern. We have 8 columns(features) in x_data so we' ll use 8. y_data has one column so , last value is 1.\n",
    "        Between these two values is random.\n",
    "        \"\"\"\n",
    "        super(Model, self).__init__()\n",
    "        self.l1 = torch.nn.Linear(8, 6)\n",
    "        self.l2 = torch.nn.Linear(6, 4)\n",
    "        self.l3 = torch.nn.Linear(4, 1)\n",
    "\n",
    "        self.sigmoid = torch.nn.Sigmoid()\n",
    "\n",
    "    def forward(self, x):\n",
    "        \"\"\"\n",
    "        In the forward function we accept a Variable of input data and we must return\n",
    "        a Variable of output data. We can use Modules defined in the constructor as\n",
    "        well as arbitrary operators on Variables.\n",
    "        \"\"\"\n",
    "        out1 = self.sigmoid(self.l1(x))\n",
    "        out2 = self.sigmoid(self.l2(out1))\n",
    "        y_pred = self.sigmoid(self.l3(out2))\n",
    "        return y_pred"
   ]
  },
  {
   "cell_type": "code",
   "execution_count": 11,
   "metadata": {},
   "outputs": [],
   "source": [
    "# our model\n",
    "model = Model()"
   ]
  },
  {
   "cell_type": "markdown",
   "metadata": {},
   "source": [
    "## 2-Construct loss and optimizer"
   ]
  },
  {
   "cell_type": "code",
   "execution_count": 12,
   "metadata": {},
   "outputs": [],
   "source": [
    "criterion = torch.nn.BCELoss(size_average=True)\n",
    "optimizer = torch.optim.SGD(model.parameters(), lr=0.1)"
   ]
  },
  {
   "cell_type": "markdown",
   "metadata": {},
   "source": [
    "## 3-Training Cycle\n",
    " - Forward\n",
    " - backward\n",
    " - update"
   ]
  },
  {
   "cell_type": "code",
   "execution_count": 13,
   "metadata": {},
   "outputs": [
    {
     "name": "stdout",
     "output_type": "stream",
     "text": [
      "0 0.6784453392028809\n",
      "1 0.6754348278045654\n",
      "2 0.6727043986320496\n",
      "3 0.670228123664856\n",
      "4 0.6679811477661133\n",
      "5 0.6659421920776367\n",
      "6 0.6640904545783997\n",
      "7 0.6624096632003784\n",
      "8 0.6608818173408508\n",
      "9 0.6594939827919006\n",
      "10 0.6582329869270325\n",
      "11 0.6570861339569092\n",
      "12 0.6560431122779846\n",
      "13 0.6550937294960022\n",
      "14 0.6542306542396545\n",
      "15 0.653444230556488\n",
      "16 0.652729332447052\n",
      "17 0.6520775556564331\n",
      "18 0.6514837145805359\n",
      "19 0.6509436964988708\n",
      "20 0.6504502296447754\n",
      "21 0.6500014066696167\n",
      "22 0.6495912075042725\n",
      "23 0.6492181420326233\n",
      "24 0.6488773822784424\n",
      "25 0.6485668420791626\n",
      "26 0.6482833623886108\n",
      "27 0.6480243802070618\n",
      "28 0.6477886438369751\n",
      "29 0.6475733518600464\n",
      "30 0.6473758816719055\n",
      "31 0.6471962332725525\n",
      "32 0.6470323801040649\n",
      "33 0.6468826532363892\n",
      "34 0.6467447876930237\n",
      "35 0.6466202735900879\n",
      "36 0.6465058326721191\n",
      "37 0.6464008092880249\n",
      "38 0.6463063955307007\n",
      "39 0.6462181806564331\n",
      "40 0.6461383700370789\n",
      "41 0.6460654735565186\n",
      "42 0.6459988951683044\n",
      "43 0.6459376215934753\n",
      "44 0.6458817720413208\n",
      "45 0.6458304524421692\n",
      "46 0.6457832455635071\n",
      "47 0.6457405090332031\n",
      "48 0.6457017660140991\n",
      "49 0.6456655263900757\n",
      "50 0.6456329822540283\n",
      "51 0.6456028819084167\n",
      "52 0.645575225353241\n",
      "53 0.6455497741699219\n",
      "54 0.6455270051956177\n",
      "55 0.6455062031745911\n",
      "56 0.6454862952232361\n",
      "57 0.6454687118530273\n",
      "58 0.6454524993896484\n",
      "59 0.6454375982284546\n",
      "60 0.6454237699508667\n",
      "61 0.6454116702079773\n",
      "62 0.645399808883667\n",
      "63 0.6453889012336731\n",
      "64 0.6453799605369568\n",
      "65 0.6453714370727539\n",
      "66 0.6453624367713928\n",
      "67 0.6453555226325989\n",
      "68 0.6453483700752258\n",
      "69 0.6453419327735901\n",
      "70 0.6453359127044678\n",
      "71 0.6453306078910828\n",
      "72 0.6453258991241455\n",
      "73 0.6453210711479187\n",
      "74 0.6453169584274292\n",
      "75 0.645313560962677\n",
      "76 0.6453096866607666\n",
      "77 0.6453065872192383\n",
      "78 0.6453035473823547\n",
      "79 0.6453010439872742\n",
      "80 0.6452980041503906\n",
      "81 0.6452958583831787\n",
      "82 0.6452935338020325\n",
      "83 0.6452916264533997\n",
      "84 0.6452894806861877\n",
      "85 0.6452876925468445\n",
      "86 0.6452856659889221\n",
      "87 0.6452845335006714\n",
      "88 0.6452829241752625\n",
      "89 0.6452823281288147\n",
      "90 0.6452810168266296\n",
      "91 0.6452798247337341\n",
      "92 0.6452786922454834\n",
      "93 0.6452775597572327\n",
      "94 0.645276665687561\n",
      "95 0.6452754735946655\n",
      "96 0.6452746987342834\n",
      "97 0.6452741026878357\n",
      "98 0.6452732682228088\n",
      "99 0.6452726125717163\n"
     ]
    }
   ],
   "source": [
    "for epoch in range(100):\n",
    "    # Forward pass: Compute predicted y by passing x to the model\n",
    "    y_pred = model(x_data)\n",
    "\n",
    "    # Compute and print loss\n",
    "    loss = criterion(y_pred, y_data)\n",
    "    print(epoch, loss.item())\n",
    "\n",
    "    # Zero gradients, perform a backward pass, and update the weights.\n",
    "    optimizer.zero_grad()\n",
    "    loss.backward()\n",
    "    optimizer.step()"
   ]
  }
 ],
 "metadata": {
  "kernelspec": {
   "display_name": "Python 3",
   "language": "python",
   "name": "python3"
  },
  "language_info": {
   "codemirror_mode": {
    "name": "ipython",
    "version": 3
   },
   "file_extension": ".py",
   "mimetype": "text/x-python",
   "name": "python",
   "nbconvert_exporter": "python",
   "pygments_lexer": "ipython3",
   "version": "3.6.5"
  }
 },
 "nbformat": 4,
 "nbformat_minor": 2
}
