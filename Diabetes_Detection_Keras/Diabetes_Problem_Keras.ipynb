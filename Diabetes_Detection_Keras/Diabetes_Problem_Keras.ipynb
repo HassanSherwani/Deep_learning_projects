{
 "cells": [
  {
   "cell_type": "code",
   "execution_count": null,
   "metadata": {},
   "outputs": [],
   "source": []
  },
  {
   "cell_type": "code",
   "execution_count": 1,
   "metadata": {},
   "outputs": [],
   "source": [
    "import warnings\n",
    "warnings.filterwarnings('ignore')"
   ]
  },
  {
   "cell_type": "code",
   "execution_count": 2,
   "metadata": {},
   "outputs": [
    {
     "name": "stderr",
     "output_type": "stream",
     "text": [
      "Using TensorFlow backend.\n"
     ]
    }
   ],
   "source": [
    "from keras.models import Sequential\n",
    "from keras.layers import Dense\n",
    "import numpy\n",
    "from keras.models import Sequential\n",
    "from keras.layers import Dense\n",
    "import pandas as pd"
   ]
  },
  {
   "cell_type": "code",
   "execution_count": 34,
   "metadata": {},
   "outputs": [
    {
     "name": "stdout",
     "output_type": "stream",
     "text": [
      "Populating the interactive namespace from numpy and matplotlib\n"
     ]
    }
   ],
   "source": [
    "# For data visualization\n",
    "import matplotlib.pyplot as plt\n",
    "import seaborn as sns\n",
    "%matplotlib inline\n",
    "%pylab inline"
   ]
  },
  {
   "cell_type": "markdown",
   "metadata": {},
   "source": [
    "## Loading dataset"
   ]
  },
  {
   "cell_type": "code",
   "execution_count": 4,
   "metadata": {},
   "outputs": [],
   "source": [
    "dataset = pd.read_csv(\"diabetes.csv\", delimiter=\",\")"
   ]
  },
  {
   "cell_type": "code",
   "execution_count": 5,
   "metadata": {},
   "outputs": [
    {
     "data": {
      "text/html": [
       "<div>\n",
       "<style scoped>\n",
       "    .dataframe tbody tr th:only-of-type {\n",
       "        vertical-align: middle;\n",
       "    }\n",
       "\n",
       "    .dataframe tbody tr th {\n",
       "        vertical-align: top;\n",
       "    }\n",
       "\n",
       "    .dataframe thead th {\n",
       "        text-align: right;\n",
       "    }\n",
       "</style>\n",
       "<table border=\"1\" class=\"dataframe\">\n",
       "  <thead>\n",
       "    <tr style=\"text-align: right;\">\n",
       "      <th></th>\n",
       "      <th>Pregnancies</th>\n",
       "      <th>Glucose</th>\n",
       "      <th>BloodPressure</th>\n",
       "      <th>SkinThickness</th>\n",
       "      <th>Insulin</th>\n",
       "      <th>BMI</th>\n",
       "      <th>DiabetesPedigreeFunction</th>\n",
       "      <th>Age</th>\n",
       "      <th>Outcome</th>\n",
       "    </tr>\n",
       "  </thead>\n",
       "  <tbody>\n",
       "    <tr>\n",
       "      <th>0</th>\n",
       "      <td>6</td>\n",
       "      <td>148</td>\n",
       "      <td>72</td>\n",
       "      <td>35</td>\n",
       "      <td>0</td>\n",
       "      <td>33.6</td>\n",
       "      <td>0.627</td>\n",
       "      <td>50</td>\n",
       "      <td>1</td>\n",
       "    </tr>\n",
       "    <tr>\n",
       "      <th>1</th>\n",
       "      <td>1</td>\n",
       "      <td>85</td>\n",
       "      <td>66</td>\n",
       "      <td>29</td>\n",
       "      <td>0</td>\n",
       "      <td>26.6</td>\n",
       "      <td>0.351</td>\n",
       "      <td>31</td>\n",
       "      <td>0</td>\n",
       "    </tr>\n",
       "    <tr>\n",
       "      <th>2</th>\n",
       "      <td>8</td>\n",
       "      <td>183</td>\n",
       "      <td>64</td>\n",
       "      <td>0</td>\n",
       "      <td>0</td>\n",
       "      <td>23.3</td>\n",
       "      <td>0.672</td>\n",
       "      <td>32</td>\n",
       "      <td>1</td>\n",
       "    </tr>\n",
       "    <tr>\n",
       "      <th>3</th>\n",
       "      <td>1</td>\n",
       "      <td>89</td>\n",
       "      <td>66</td>\n",
       "      <td>23</td>\n",
       "      <td>94</td>\n",
       "      <td>28.1</td>\n",
       "      <td>0.167</td>\n",
       "      <td>21</td>\n",
       "      <td>0</td>\n",
       "    </tr>\n",
       "    <tr>\n",
       "      <th>4</th>\n",
       "      <td>0</td>\n",
       "      <td>137</td>\n",
       "      <td>40</td>\n",
       "      <td>35</td>\n",
       "      <td>168</td>\n",
       "      <td>43.1</td>\n",
       "      <td>2.288</td>\n",
       "      <td>33</td>\n",
       "      <td>1</td>\n",
       "    </tr>\n",
       "  </tbody>\n",
       "</table>\n",
       "</div>"
      ],
      "text/plain": [
       "   Pregnancies  Glucose  BloodPressure  SkinThickness  Insulin   BMI  \\\n",
       "0            6      148             72             35        0  33.6   \n",
       "1            1       85             66             29        0  26.6   \n",
       "2            8      183             64              0        0  23.3   \n",
       "3            1       89             66             23       94  28.1   \n",
       "4            0      137             40             35      168  43.1   \n",
       "\n",
       "   DiabetesPedigreeFunction  Age  Outcome  \n",
       "0                     0.627   50        1  \n",
       "1                     0.351   31        0  \n",
       "2                     0.672   32        1  \n",
       "3                     0.167   21        0  \n",
       "4                     2.288   33        1  "
      ]
     },
     "execution_count": 5,
     "metadata": {},
     "output_type": "execute_result"
    }
   ],
   "source": [
    "dataset.head()"
   ]
  },
  {
   "cell_type": "code",
   "execution_count": 30,
   "metadata": {},
   "outputs": [
    {
     "data": {
      "text/plain": [
       "(768, 9)"
      ]
     },
     "execution_count": 30,
     "metadata": {},
     "output_type": "execute_result"
    }
   ],
   "source": [
    "dataset.shape"
   ]
  },
  {
   "cell_type": "code",
   "execution_count": 31,
   "metadata": {},
   "outputs": [
    {
     "data": {
      "text/plain": [
       "0    500\n",
       "1    268\n",
       "Name: Outcome, dtype: int64"
      ]
     },
     "execution_count": 31,
     "metadata": {},
     "output_type": "execute_result"
    }
   ],
   "source": [
    "dataset['Outcome'].value_counts()"
   ]
  },
  {
   "cell_type": "code",
   "execution_count": 35,
   "metadata": {},
   "outputs": [
    {
     "ename": "ValueError",
     "evalue": "Could not interpret input 'Outcome'",
     "output_type": "error",
     "traceback": [
      "\u001b[1;31m---------------------------------------------------------------------------\u001b[0m",
      "\u001b[1;31mValueError\u001b[0m                                Traceback (most recent call last)",
      "\u001b[1;32m<ipython-input-35-c9cbaa8e4fc4>\u001b[0m in \u001b[0;36m<module>\u001b[1;34m()\u001b[0m\n\u001b[1;32m----> 1\u001b[1;33m \u001b[0msns\u001b[0m\u001b[1;33m.\u001b[0m\u001b[0mcountplot\u001b[0m\u001b[1;33m(\u001b[0m\u001b[0mx\u001b[0m\u001b[1;33m=\u001b[0m\u001b[1;34m'Outcome'\u001b[0m\u001b[1;33m,\u001b[0m \u001b[0mdataset\u001b[0m\u001b[1;33m=\u001b[0m\u001b[0mdataset\u001b[0m\u001b[1;33m)\u001b[0m\u001b[1;33m\u001b[0m\u001b[0m\n\u001b[0m\u001b[0;32m      2\u001b[0m \u001b[0mplt\u001b[0m\u001b[1;33m.\u001b[0m\u001b[0mshow\u001b[0m\u001b[1;33m(\u001b[0m\u001b[1;33m)\u001b[0m\u001b[1;33m\u001b[0m\u001b[0m\n",
      "\u001b[1;32m~\\AppData\\Roaming\\Python\\Python36\\site-packages\\seaborn\\categorical.py\u001b[0m in \u001b[0;36mcountplot\u001b[1;34m(x, y, hue, data, order, hue_order, orient, color, palette, saturation, dodge, ax, **kwargs)\u001b[0m\n\u001b[0;32m   3551\u001b[0m                           \u001b[0mestimator\u001b[0m\u001b[1;33m,\u001b[0m \u001b[0mci\u001b[0m\u001b[1;33m,\u001b[0m \u001b[0mn_boot\u001b[0m\u001b[1;33m,\u001b[0m \u001b[0munits\u001b[0m\u001b[1;33m,\u001b[0m\u001b[1;33m\u001b[0m\u001b[0m\n\u001b[0;32m   3552\u001b[0m                           \u001b[0morient\u001b[0m\u001b[1;33m,\u001b[0m \u001b[0mcolor\u001b[0m\u001b[1;33m,\u001b[0m \u001b[0mpalette\u001b[0m\u001b[1;33m,\u001b[0m \u001b[0msaturation\u001b[0m\u001b[1;33m,\u001b[0m\u001b[1;33m\u001b[0m\u001b[0m\n\u001b[1;32m-> 3553\u001b[1;33m                           errcolor, errwidth, capsize, dodge)\n\u001b[0m\u001b[0;32m   3554\u001b[0m \u001b[1;33m\u001b[0m\u001b[0m\n\u001b[0;32m   3555\u001b[0m     \u001b[0mplotter\u001b[0m\u001b[1;33m.\u001b[0m\u001b[0mvalue_label\u001b[0m \u001b[1;33m=\u001b[0m \u001b[1;34m\"count\"\u001b[0m\u001b[1;33m\u001b[0m\u001b[0m\n",
      "\u001b[1;32m~\\AppData\\Roaming\\Python\\Python36\\site-packages\\seaborn\\categorical.py\u001b[0m in \u001b[0;36m__init__\u001b[1;34m(self, x, y, hue, data, order, hue_order, estimator, ci, n_boot, units, orient, color, palette, saturation, errcolor, errwidth, capsize, dodge)\u001b[0m\n\u001b[0;32m   1605\u001b[0m         \u001b[1;34m\"\"\"Initialize the plotter.\"\"\"\u001b[0m\u001b[1;33m\u001b[0m\u001b[0m\n\u001b[0;32m   1606\u001b[0m         self.establish_variables(x, y, hue, data, orient,\n\u001b[1;32m-> 1607\u001b[1;33m                                  order, hue_order, units)\n\u001b[0m\u001b[0;32m   1608\u001b[0m         \u001b[0mself\u001b[0m\u001b[1;33m.\u001b[0m\u001b[0mestablish_colors\u001b[0m\u001b[1;33m(\u001b[0m\u001b[0mcolor\u001b[0m\u001b[1;33m,\u001b[0m \u001b[0mpalette\u001b[0m\u001b[1;33m,\u001b[0m \u001b[0msaturation\u001b[0m\u001b[1;33m)\u001b[0m\u001b[1;33m\u001b[0m\u001b[0m\n\u001b[0;32m   1609\u001b[0m         \u001b[0mself\u001b[0m\u001b[1;33m.\u001b[0m\u001b[0mestimate_statistic\u001b[0m\u001b[1;33m(\u001b[0m\u001b[0mestimator\u001b[0m\u001b[1;33m,\u001b[0m \u001b[0mci\u001b[0m\u001b[1;33m,\u001b[0m \u001b[0mn_boot\u001b[0m\u001b[1;33m)\u001b[0m\u001b[1;33m\u001b[0m\u001b[0m\n",
      "\u001b[1;32m~\\AppData\\Roaming\\Python\\Python36\\site-packages\\seaborn\\categorical.py\u001b[0m in \u001b[0;36mestablish_variables\u001b[1;34m(self, x, y, hue, data, orient, order, hue_order, units)\u001b[0m\n\u001b[0;32m    153\u001b[0m                 \u001b[1;32mif\u001b[0m \u001b[0misinstance\u001b[0m\u001b[1;33m(\u001b[0m\u001b[0minput\u001b[0m\u001b[1;33m,\u001b[0m \u001b[0mstring_types\u001b[0m\u001b[1;33m)\u001b[0m\u001b[1;33m:\u001b[0m\u001b[1;33m\u001b[0m\u001b[0m\n\u001b[0;32m    154\u001b[0m                     \u001b[0merr\u001b[0m \u001b[1;33m=\u001b[0m \u001b[1;34m\"Could not interpret input '{}'\"\u001b[0m\u001b[1;33m.\u001b[0m\u001b[0mformat\u001b[0m\u001b[1;33m(\u001b[0m\u001b[0minput\u001b[0m\u001b[1;33m)\u001b[0m\u001b[1;33m\u001b[0m\u001b[0m\n\u001b[1;32m--> 155\u001b[1;33m                     \u001b[1;32mraise\u001b[0m \u001b[0mValueError\u001b[0m\u001b[1;33m(\u001b[0m\u001b[0merr\u001b[0m\u001b[1;33m)\u001b[0m\u001b[1;33m\u001b[0m\u001b[0m\n\u001b[0m\u001b[0;32m    156\u001b[0m \u001b[1;33m\u001b[0m\u001b[0m\n\u001b[0;32m    157\u001b[0m             \u001b[1;31m# Figure out the plotting orientation\u001b[0m\u001b[1;33m\u001b[0m\u001b[1;33m\u001b[0m\u001b[0m\n",
      "\u001b[1;31mValueError\u001b[0m: Could not interpret input 'Outcome'"
     ]
    }
   ],
   "source": [
    "sns.countplot(x='Outcome', dataset=dataset)\n",
    "plt.show()"
   ]
  },
  {
   "cell_type": "code",
   "execution_count": 37,
   "metadata": {},
   "outputs": [
    {
     "data": {
      "image/png": "[encoded data removed]",
      "text/plain": [
       "<Figure size 864x576 with 9 Axes>"
      ]
     },
     "metadata": {},
     "output_type": "display_data"
    }
   ],
   "source": [
    "dataset.hist(figsize=(12, 8))\n",
    "plt.show()"
   ]
  },
  {
   "cell_type": "code",
   "execution_count": null,
   "metadata": {},
   "outputs": [],
   "source": []
  },
  {
   "cell_type": "code",
   "execution_count": null,
   "metadata": {},
   "outputs": [],
   "source": []
  },
  {
   "cell_type": "code",
   "execution_count": null,
   "metadata": {},
   "outputs": [],
   "source": []
  },
  {
   "cell_type": "code",
   "execution_count": null,
   "metadata": {},
   "outputs": [],
   "source": []
  },
  {
   "cell_type": "code",
   "execution_count": null,
   "metadata": {},
   "outputs": [],
   "source": [
    "\n",
    "sns.pairplot(dataset, hue='Outcome')"
   ]
  },
  {
   "cell_type": "code",
   "execution_count": 6,
   "metadata": {},
   "outputs": [],
   "source": [
    "X = dataset.iloc[:,0:8]\n",
    "Y = dataset.iloc[:,8]"
   ]
  },
  {
   "cell_type": "code",
   "execution_count": 7,
   "metadata": {},
   "outputs": [
    {
     "data": {
      "text/plain": [
       "(768,)"
      ]
     },
     "execution_count": 7,
     "metadata": {},
     "output_type": "execute_result"
    }
   ],
   "source": [
    "Y.shape"
   ]
  },
  {
   "cell_type": "code",
   "execution_count": 8,
   "metadata": {},
   "outputs": [],
   "source": [
    "from sklearn.model_selection import train_test_split\n",
    "X_train,X_test,y_train,y_test=train_test_split(X,Y,train_size=0.2,random_state=1)"
   ]
  },
  {
   "cell_type": "code",
   "execution_count": 11,
   "metadata": {},
   "outputs": [
    {
     "data": {
      "text/plain": [
       "(153,)"
      ]
     },
     "execution_count": 11,
     "metadata": {},
     "output_type": "execute_result"
    }
   ],
   "source": [
    "y_train.shape"
   ]
  },
  {
   "cell_type": "code",
   "execution_count": 12,
   "metadata": {},
   "outputs": [
    {
     "data": {
      "text/plain": [
       "717    0\n",
       "706    1\n",
       "505    0\n",
       "624    0\n",
       "231    1\n",
       "Name: Outcome, dtype: int64"
      ]
     },
     "execution_count": 12,
     "metadata": {},
     "output_type": "execute_result"
    }
   ],
   "source": [
    "y_train[0:5]"
   ]
  },
  {
   "cell_type": "code",
   "execution_count": null,
   "metadata": {},
   "outputs": [],
   "source": []
  },
  {
   "cell_type": "code",
   "execution_count": 15,
   "metadata": {},
   "outputs": [],
   "source": [
    "# create model\n",
    "model = Sequential()\n",
    "model.add(Dense(12, input_dim=8, activation='relu'))\n",
    "model.add(Dense(8, activation='relu'))\n",
    "model.add(Dense(1, activation='sigmoid'))"
   ]
  },
  {
   "cell_type": "code",
   "execution_count": 16,
   "metadata": {},
   "outputs": [],
   "source": [
    "# Compile model\n",
    "model.compile(loss='binary_crossentropy', optimizer='adam', metrics=['accuracy'])"
   ]
  },
  {
   "cell_type": "code",
   "execution_count": 17,
   "metadata": {},
   "outputs": [
    {
     "name": "stdout",
     "output_type": "stream",
     "text": [
      "_________________________________________________________________\n",
      "Layer (type)                 Output Shape              Param #   \n",
      "=================================================================\n",
      "dense_1 (Dense)              (None, 12)                108       \n",
      "_________________________________________________________________\n",
      "dense_2 (Dense)              (None, 8)                 104       \n",
      "_________________________________________________________________\n",
      "dense_3 (Dense)              (None, 1)                 9         \n",
      "=================================================================\n",
      "Total params: 221\n",
      "Trainable params: 221\n",
      "Non-trainable params: 0\n",
      "_________________________________________________________________\n"
     ]
    }
   ],
   "source": [
    "model.summary()"
   ]
  },
  {
   "cell_type": "code",
   "execution_count": 18,
   "metadata": {},
   "outputs": [
    {
     "name": "stdout",
     "output_type": "stream",
     "text": [
      "Train on 153 samples, validate on 615 samples\n",
      "Epoch 1/150\n",
      "153/153 [==============================] - 1s 3ms/step - loss: 5.8831 - acc: 0.6340 - val_loss: 5.4257 - val_acc: 0.6553\n",
      "Epoch 2/150\n",
      "153/153 [==============================] - 0s 306us/step - loss: 5.4467 - acc: 0.6340 - val_loss: 4.8605 - val_acc: 0.6553\n",
      "Epoch 3/150\n",
      "153/153 [==============================] - 0s 306us/step - loss: 4.5312 - acc: 0.6209 - val_loss: 3.7814 - val_acc: 0.6358\n",
      "Epoch 4/150\n",
      "153/153 [==============================] - 0s 306us/step - loss: 3.6899 - acc: 0.6601 - val_loss: 3.4589 - val_acc: 0.6065\n",
      "Epoch 5/150\n",
      "153/153 [==============================] - 0s 306us/step - loss: 3.5164 - acc: 0.6471 - val_loss: 3.4461 - val_acc: 0.6033\n",
      "Epoch 6/150\n",
      "153/153 [==============================] - 0s 306us/step - loss: 3.4930 - acc: 0.6601 - val_loss: 3.4141 - val_acc: 0.6000\n",
      "Epoch 7/150\n",
      "153/153 [==============================] - 0s 306us/step - loss: 3.4767 - acc: 0.6275 - val_loss: 3.2989 - val_acc: 0.5837\n",
      "Epoch 8/150\n",
      "153/153 [==============================] - 0s 408us/step - loss: 3.4450 - acc: 0.6013 - val_loss: 3.2774 - val_acc: 0.5707\n",
      "Epoch 9/150\n",
      "153/153 [==============================] - 0s 204us/step - loss: 3.4195 - acc: 0.5948 - val_loss: 3.2446 - val_acc: 0.5675\n",
      "Epoch 10/150\n",
      "153/153 [==============================] - 0s 306us/step - loss: 3.2508 - acc: 0.5752 - val_loss: 3.0390 - val_acc: 0.5626\n",
      "Epoch 11/150\n",
      "153/153 [==============================] - 0s 306us/step - loss: 2.3776 - acc: 0.5752 - val_loss: 1.2840 - val_acc: 0.5008\n",
      "Epoch 12/150\n",
      "153/153 [==============================] - 0s 306us/step - loss: 1.0616 - acc: 0.5098 - val_loss: 1.0793 - val_acc: 0.4715\n",
      "Epoch 13/150\n",
      "153/153 [==============================] - 0s 306us/step - loss: 0.8691 - acc: 0.5490 - val_loss: 1.0609 - val_acc: 0.4764\n",
      "Epoch 14/150\n",
      "153/153 [==============================] - 0s 306us/step - loss: 0.7851 - acc: 0.5490 - val_loss: 1.0093 - val_acc: 0.4732\n",
      "Epoch 15/150\n",
      "153/153 [==============================] - 0s 309us/step - loss: 0.7780 - acc: 0.5425 - val_loss: 0.9756 - val_acc: 0.4683\n",
      "Epoch 16/150\n",
      "153/153 [==============================] - 0s 260us/step - loss: 0.7278 - acc: 0.5490 - val_loss: 0.9760 - val_acc: 0.4829\n",
      "Epoch 17/150\n",
      "153/153 [==============================] - 0s 306us/step - loss: 0.7344 - acc: 0.5686 - val_loss: 0.9653 - val_acc: 0.4894\n",
      "Epoch 18/150\n",
      "153/153 [==============================] - 0s 306us/step - loss: 0.6861 - acc: 0.5817 - val_loss: 0.9448 - val_acc: 0.4959\n",
      "Epoch 19/150\n",
      "153/153 [==============================] - 0s 306us/step - loss: 0.6601 - acc: 0.5752 - val_loss: 0.8810 - val_acc: 0.5089\n",
      "Epoch 20/150\n",
      "153/153 [==============================] - 0s 306us/step - loss: 0.6420 - acc: 0.5621 - val_loss: 0.8369 - val_acc: 0.5366\n",
      "Epoch 21/150\n",
      "153/153 [==============================] - 0s 306us/step - loss: 0.6123 - acc: 0.5817 - val_loss: 0.8324 - val_acc: 0.5382\n",
      "Epoch 22/150\n",
      "153/153 [==============================] - 0s 306us/step - loss: 0.6073 - acc: 0.5686 - val_loss: 0.8522 - val_acc: 0.5512\n",
      "Epoch 23/150\n",
      "153/153 [==============================] - 0s 306us/step - loss: 0.6073 - acc: 0.5686 - val_loss: 0.8467 - val_acc: 0.6016\n",
      "Epoch 24/150\n",
      "153/153 [==============================] - 0s 306us/step - loss: 0.5839 - acc: 0.6667 - val_loss: 0.8500 - val_acc: 0.6163\n",
      "Epoch 25/150\n",
      "153/153 [==============================] - 0s 409us/step - loss: 0.5740 - acc: 0.6732 - val_loss: 0.8559 - val_acc: 0.6081\n",
      "Epoch 26/150\n",
      "153/153 [==============================] - 0s 306us/step - loss: 0.5642 - acc: 0.6732 - val_loss: 0.8121 - val_acc: 0.6081\n",
      "Epoch 27/150\n",
      "153/153 [==============================] - 0s 306us/step - loss: 0.5851 - acc: 0.6536 - val_loss: 0.8085 - val_acc: 0.6179\n",
      "Epoch 28/150\n",
      "153/153 [==============================] - 0s 306us/step - loss: 0.5676 - acc: 0.6471 - val_loss: 0.8179 - val_acc: 0.6163\n",
      "Epoch 29/150\n",
      "153/153 [==============================] - 0s 204us/step - loss: 0.5752 - acc: 0.6667 - val_loss: 0.8500 - val_acc: 0.6358\n",
      "Epoch 30/150\n",
      "153/153 [==============================] - 0s 306us/step - loss: 0.5744 - acc: 0.6536 - val_loss: 0.8377 - val_acc: 0.6146\n",
      "Epoch 31/150\n",
      "153/153 [==============================] - 0s 306us/step - loss: 0.5546 - acc: 0.6863 - val_loss: 0.8361 - val_acc: 0.6276\n",
      "Epoch 32/150\n",
      "153/153 [==============================] - 0s 306us/step - loss: 0.5506 - acc: 0.6536 - val_loss: 0.8719 - val_acc: 0.6309\n",
      "Epoch 33/150\n",
      "153/153 [==============================] - 0s 408us/step - loss: 0.5510 - acc: 0.6536 - val_loss: 0.8775 - val_acc: 0.6228\n",
      "Epoch 34/150\n",
      "153/153 [==============================] - 0s 306us/step - loss: 0.5443 - acc: 0.6667 - val_loss: 0.8589 - val_acc: 0.6293\n",
      "Epoch 35/150\n",
      "153/153 [==============================] - 0s 306us/step - loss: 0.5933 - acc: 0.6863 - val_loss: 0.8453 - val_acc: 0.6374\n",
      "Epoch 36/150\n",
      "153/153 [==============================] - 0s 362us/step - loss: 0.5955 - acc: 0.6471 - val_loss: 0.8710 - val_acc: 0.6325\n",
      "Epoch 37/150\n",
      "153/153 [==============================] - 0s 306us/step - loss: 0.5622 - acc: 0.6797 - val_loss: 0.8710 - val_acc: 0.6374\n",
      "Epoch 38/150\n",
      "153/153 [==============================] - 0s 416us/step - loss: 0.5204 - acc: 0.6863 - val_loss: 0.8626 - val_acc: 0.6325\n",
      "Epoch 39/150\n",
      "153/153 [==============================] - 0s 261us/step - loss: 0.5269 - acc: 0.7059 - val_loss: 0.8479 - val_acc: 0.6358\n",
      "Epoch 40/150\n",
      "153/153 [==============================] - 0s 306us/step - loss: 0.5707 - acc: 0.6928 - val_loss: 0.8329 - val_acc: 0.6407\n",
      "Epoch 41/150\n",
      "153/153 [==============================] - 0s 310us/step - loss: 0.5473 - acc: 0.6667 - val_loss: 0.8562 - val_acc: 0.6407\n",
      "Epoch 42/150\n",
      "153/153 [==============================] - 0s 306us/step - loss: 0.5288 - acc: 0.6928 - val_loss: 0.8318 - val_acc: 0.6439\n",
      "Epoch 43/150\n",
      "153/153 [==============================] - 0s 306us/step - loss: 0.5241 - acc: 0.6536 - val_loss: 0.8402 - val_acc: 0.6374\n",
      "Epoch 44/150\n",
      "153/153 [==============================] - 0s 408us/step - loss: 0.5267 - acc: 0.6732 - val_loss: 0.8331 - val_acc: 0.6423\n",
      "Epoch 45/150\n",
      "153/153 [==============================] - 0s 306us/step - loss: 0.5257 - acc: 0.6732 - val_loss: 0.8334 - val_acc: 0.6374\n",
      "Epoch 46/150\n",
      "153/153 [==============================] - 0s 306us/step - loss: 0.5279 - acc: 0.6993 - val_loss: 0.8316 - val_acc: 0.6488\n",
      "Epoch 47/150\n",
      "153/153 [==============================] - 0s 306us/step - loss: 0.5334 - acc: 0.6601 - val_loss: 0.8394 - val_acc: 0.6390\n",
      "Epoch 48/150\n",
      "153/153 [==============================] - 0s 306us/step - loss: 0.5223 - acc: 0.7059 - val_loss: 0.8102 - val_acc: 0.6488\n",
      "Epoch 49/150\n",
      "153/153 [==============================] - 0s 408us/step - loss: 0.5274 - acc: 0.6732 - val_loss: 0.8415 - val_acc: 0.6407\n",
      "Epoch 50/150\n",
      "153/153 [==============================] - 0s 306us/step - loss: 0.5232 - acc: 0.6601 - val_loss: 0.8294 - val_acc: 0.6423\n",
      "Epoch 51/150\n",
      "153/153 [==============================] - 0s 306us/step - loss: 0.5212 - acc: 0.6732 - val_loss: 0.8120 - val_acc: 0.6358\n",
      "Epoch 52/150\n",
      "153/153 [==============================] - 0s 306us/step - loss: 0.5394 - acc: 0.6536 - val_loss: 0.8144 - val_acc: 0.6439\n",
      "Epoch 53/150\n",
      "153/153 [==============================] - 0s 306us/step - loss: 0.5110 - acc: 0.6863 - val_loss: 0.8304 - val_acc: 0.6455\n",
      "Epoch 54/150\n",
      "153/153 [==============================] - 0s 306us/step - loss: 0.5117 - acc: 0.6993 - val_loss: 0.8259 - val_acc: 0.6455\n",
      "Epoch 55/150\n",
      "153/153 [==============================] - 0s 306us/step - loss: 0.5409 - acc: 0.6993 - val_loss: 0.8250 - val_acc: 0.6407\n",
      "Epoch 56/150\n",
      "153/153 [==============================] - 0s 306us/step - loss: 0.5199 - acc: 0.7059 - val_loss: 0.8130 - val_acc: 0.6472\n",
      "Epoch 57/150\n",
      "153/153 [==============================] - 0s 393us/step - loss: 0.5211 - acc: 0.6797 - val_loss: 0.8362 - val_acc: 0.6504\n",
      "Epoch 58/150\n",
      "153/153 [==============================] - 0s 306us/step - loss: 0.5246 - acc: 0.6797 - val_loss: 0.8304 - val_acc: 0.6537\n",
      "Epoch 59/150\n",
      "153/153 [==============================] - 0s 204us/step - loss: 0.5284 - acc: 0.6732 - val_loss: 0.8116 - val_acc: 0.6520\n",
      "Epoch 60/150\n",
      "153/153 [==============================] - 0s 306us/step - loss: 0.5111 - acc: 0.7124 - val_loss: 0.8212 - val_acc: 0.6520\n"
     ]
    },
    {
     "name": "stdout",
     "output_type": "stream",
     "text": [
      "Epoch 61/150\n",
      "153/153 [==============================] - 0s 306us/step - loss: 0.5072 - acc: 0.6928 - val_loss: 0.8200 - val_acc: 0.6537\n",
      "Epoch 62/150\n",
      "153/153 [==============================] - 0s 359us/step - loss: 0.5221 - acc: 0.6797 - val_loss: 0.8268 - val_acc: 0.6407\n",
      "Epoch 63/150\n",
      "153/153 [==============================] - 0s 234us/step - loss: 0.5041 - acc: 0.6667 - val_loss: 0.8259 - val_acc: 0.6423\n",
      "Epoch 64/150\n",
      "153/153 [==============================] - 0s 306us/step - loss: 0.5100 - acc: 0.6667 - val_loss: 0.8087 - val_acc: 0.6520\n",
      "Epoch 65/150\n",
      "153/153 [==============================] - 0s 306us/step - loss: 0.5192 - acc: 0.6863 - val_loss: 0.8102 - val_acc: 0.6537\n",
      "Epoch 66/150\n",
      "153/153 [==============================] - 0s 306us/step - loss: 0.5177 - acc: 0.7059 - val_loss: 0.8087 - val_acc: 0.6504\n",
      "Epoch 67/150\n",
      "153/153 [==============================] - 0s 204us/step - loss: 0.4997 - acc: 0.7059 - val_loss: 0.8419 - val_acc: 0.6504\n",
      "Epoch 68/150\n",
      "153/153 [==============================] - 0s 306us/step - loss: 0.5007 - acc: 0.7059 - val_loss: 0.8147 - val_acc: 0.6520\n",
      "Epoch 69/150\n",
      "153/153 [==============================] - 0s 306us/step - loss: 0.5078 - acc: 0.6928 - val_loss: 0.8165 - val_acc: 0.6602\n",
      "Epoch 70/150\n",
      "153/153 [==============================] - 0s 306us/step - loss: 0.5097 - acc: 0.7124 - val_loss: 0.8217 - val_acc: 0.6455\n",
      "Epoch 71/150\n",
      "153/153 [==============================] - 0s 306us/step - loss: 0.4962 - acc: 0.6993 - val_loss: 0.8235 - val_acc: 0.6504\n",
      "Epoch 72/150\n",
      "153/153 [==============================] - 0s 204us/step - loss: 0.5020 - acc: 0.7059 - val_loss: 0.8152 - val_acc: 0.6455\n",
      "Epoch 73/150\n",
      "153/153 [==============================] - 0s 306us/step - loss: 0.5016 - acc: 0.7190 - val_loss: 0.8333 - val_acc: 0.6504\n",
      "Epoch 74/150\n",
      "153/153 [==============================] - 0s 306us/step - loss: 0.5114 - acc: 0.6993 - val_loss: 0.8103 - val_acc: 0.6504\n",
      "Epoch 75/150\n",
      "153/153 [==============================] - 0s 306us/step - loss: 0.5039 - acc: 0.6928 - val_loss: 0.8131 - val_acc: 0.6504\n",
      "Epoch 76/150\n",
      "153/153 [==============================] - 0s 204us/step - loss: 0.4968 - acc: 0.6993 - val_loss: 0.8400 - val_acc: 0.6504\n",
      "Epoch 77/150\n",
      "153/153 [==============================] - 0s 204us/step - loss: 0.4969 - acc: 0.6863 - val_loss: 0.8223 - val_acc: 0.6520\n",
      "Epoch 78/150\n",
      "153/153 [==============================] - 0s 306us/step - loss: 0.5015 - acc: 0.6993 - val_loss: 0.8207 - val_acc: 0.6504\n",
      "Epoch 79/150\n",
      "153/153 [==============================] - 0s 288us/step - loss: 0.5061 - acc: 0.6993 - val_loss: 0.8114 - val_acc: 0.6520\n",
      "Epoch 80/150\n",
      "153/153 [==============================] - 0s 306us/step - loss: 0.5162 - acc: 0.6732 - val_loss: 0.8435 - val_acc: 0.6504\n",
      "Epoch 81/150\n",
      "153/153 [==============================] - 0s 258us/step - loss: 0.5055 - acc: 0.6928 - val_loss: 0.8183 - val_acc: 0.6553\n",
      "Epoch 82/150\n",
      "153/153 [==============================] - 0s 306us/step - loss: 0.5039 - acc: 0.7124 - val_loss: 0.8023 - val_acc: 0.6504\n",
      "Epoch 83/150\n",
      "153/153 [==============================] - 0s 306us/step - loss: 0.5174 - acc: 0.6797 - val_loss: 0.8662 - val_acc: 0.6423\n",
      "Epoch 84/150\n",
      "153/153 [==============================] - ETA: 0s - loss: 0.7049 - acc: 0.600 - 0s 204us/step - loss: 0.5376 - acc: 0.7124 - val_loss: 0.8441 - val_acc: 0.6504\n",
      "Epoch 85/150\n",
      "153/153 [==============================] - 0s 204us/step - loss: 0.4945 - acc: 0.7059 - val_loss: 0.8245 - val_acc: 0.6585\n",
      "Epoch 86/150\n",
      "153/153 [==============================] - 0s 306us/step - loss: 0.4922 - acc: 0.6863 - val_loss: 0.8207 - val_acc: 0.6553\n",
      "Epoch 87/150\n",
      "153/153 [==============================] - 0s 306us/step - loss: 0.4924 - acc: 0.6993 - val_loss: 0.8098 - val_acc: 0.6553\n",
      "Epoch 88/150\n",
      "153/153 [==============================] - 0s 306us/step - loss: 0.5094 - acc: 0.6863 - val_loss: 0.8131 - val_acc: 0.6455\n",
      "Epoch 89/150\n",
      "153/153 [==============================] - 0s 306us/step - loss: 0.4880 - acc: 0.7320 - val_loss: 0.8319 - val_acc: 0.6488\n",
      "Epoch 90/150\n",
      "153/153 [==============================] - 0s 306us/step - loss: 0.4977 - acc: 0.6993 - val_loss: 0.8148 - val_acc: 0.6504\n",
      "Epoch 91/150\n",
      "153/153 [==============================] - 0s 306us/step - loss: 0.4886 - acc: 0.7059 - val_loss: 0.8229 - val_acc: 0.6504\n",
      "Epoch 92/150\n",
      "153/153 [==============================] - 0s 306us/step - loss: 0.4881 - acc: 0.7059 - val_loss: 0.8102 - val_acc: 0.6553\n",
      "Epoch 93/150\n",
      "153/153 [==============================] - 0s 204us/step - loss: 0.5019 - acc: 0.7059 - val_loss: 0.8291 - val_acc: 0.6520\n",
      "Epoch 94/150\n",
      "153/153 [==============================] - 0s 306us/step - loss: 0.4904 - acc: 0.7059 - val_loss: 0.8248 - val_acc: 0.6488\n",
      "Epoch 95/150\n",
      "153/153 [==============================] - 0s 306us/step - loss: 0.4894 - acc: 0.7124 - val_loss: 0.8254 - val_acc: 0.6537\n",
      "Epoch 96/150\n",
      "153/153 [==============================] - 0s 306us/step - loss: 0.4802 - acc: 0.6928 - val_loss: 0.8140 - val_acc: 0.6374\n",
      "Epoch 97/150\n",
      "153/153 [==============================] - 0s 306us/step - loss: 0.4960 - acc: 0.6993 - val_loss: 0.7841 - val_acc: 0.6553\n",
      "Epoch 98/150\n",
      "153/153 [==============================] - 0s 306us/step - loss: 0.4949 - acc: 0.6797 - val_loss: 0.7757 - val_acc: 0.6569\n",
      "Epoch 99/150\n",
      "153/153 [==============================] - 0s 204us/step - loss: 0.4858 - acc: 0.7059 - val_loss: 0.7853 - val_acc: 0.6618\n",
      "Epoch 100/150\n",
      "153/153 [==============================] - 0s 306us/step - loss: 0.4866 - acc: 0.7124 - val_loss: 0.7889 - val_acc: 0.6504\n",
      "Epoch 101/150\n",
      "153/153 [==============================] - 0s 306us/step - loss: 0.5200 - acc: 0.6667 - val_loss: 0.8276 - val_acc: 0.6488\n",
      "Epoch 102/150\n",
      "153/153 [==============================] - 0s 289us/step - loss: 0.4866 - acc: 0.7059 - val_loss: 0.8016 - val_acc: 0.6455\n",
      "Epoch 103/150\n",
      "153/153 [==============================] - 0s 306us/step - loss: 0.4891 - acc: 0.6928 - val_loss: 0.8200 - val_acc: 0.6602\n",
      "Epoch 104/150\n",
      "153/153 [==============================] - 0s 306us/step - loss: 0.4850 - acc: 0.7059 - val_loss: 0.8184 - val_acc: 0.6504\n",
      "Epoch 105/150\n",
      "153/153 [==============================] - 0s 211us/step - loss: 0.4812 - acc: 0.7059 - val_loss: 0.8239 - val_acc: 0.6618\n",
      "Epoch 106/150\n",
      "153/153 [==============================] - 0s 306us/step - loss: 0.4863 - acc: 0.6993 - val_loss: 0.8181 - val_acc: 0.6504\n",
      "Epoch 107/150\n",
      "153/153 [==============================] - 0s 306us/step - loss: 0.4828 - acc: 0.7124 - val_loss: 0.8195 - val_acc: 0.6520\n",
      "Epoch 108/150\n",
      "153/153 [==============================] - 0s 306us/step - loss: 0.4852 - acc: 0.6928 - val_loss: 0.8305 - val_acc: 0.6537\n",
      "Epoch 109/150\n",
      "153/153 [==============================] - 0s 306us/step - loss: 0.4931 - acc: 0.7059 - val_loss: 0.8066 - val_acc: 0.6537\n",
      "Epoch 110/150\n",
      "153/153 [==============================] - 0s 204us/step - loss: 0.4905 - acc: 0.6928 - val_loss: 0.8071 - val_acc: 0.6585\n",
      "Epoch 111/150\n",
      "153/153 [==============================] - 0s 306us/step - loss: 0.4857 - acc: 0.6993 - val_loss: 0.8139 - val_acc: 0.6537\n",
      "Epoch 112/150\n",
      "153/153 [==============================] - 0s 306us/step - loss: 0.4932 - acc: 0.7059 - val_loss: 0.8342 - val_acc: 0.6618\n",
      "Epoch 113/150\n",
      "153/153 [==============================] - 0s 306us/step - loss: 0.4831 - acc: 0.6928 - val_loss: 0.8192 - val_acc: 0.6618\n",
      "Epoch 114/150\n",
      "153/153 [==============================] - 0s 204us/step - loss: 0.4879 - acc: 0.7124 - val_loss: 0.8281 - val_acc: 0.6585\n",
      "Epoch 115/150\n",
      "153/153 [==============================] - 0s 306us/step - loss: 0.4805 - acc: 0.6993 - val_loss: 0.8058 - val_acc: 0.6553\n",
      "Epoch 116/150\n",
      "153/153 [==============================] - 0s 306us/step - loss: 0.4789 - acc: 0.7124 - val_loss: 0.8087 - val_acc: 0.6569\n",
      "Epoch 117/150\n",
      "153/153 [==============================] - 0s 306us/step - loss: 0.4794 - acc: 0.6993 - val_loss: 0.8155 - val_acc: 0.6602\n",
      "Epoch 118/150\n",
      "153/153 [==============================] - 0s 306us/step - loss: 0.4898 - acc: 0.7386 - val_loss: 0.8471 - val_acc: 0.6488\n",
      "Epoch 119/150\n",
      "153/153 [==============================] - 0s 306us/step - loss: 0.5097 - acc: 0.6863 - val_loss: 0.8005 - val_acc: 0.6553\n",
      "Epoch 120/150\n",
      "153/153 [==============================] - 0s 306us/step - loss: 0.4772 - acc: 0.7059 - val_loss: 0.8324 - val_acc: 0.6618\n"
     ]
    },
    {
     "name": "stdout",
     "output_type": "stream",
     "text": [
      "Epoch 121/150\n",
      "153/153 [==============================] - 0s 306us/step - loss: 0.4989 - acc: 0.6863 - val_loss: 0.8377 - val_acc: 0.6569\n",
      "Epoch 122/150\n",
      "153/153 [==============================] - 0s 204us/step - loss: 0.4866 - acc: 0.7124 - val_loss: 0.8038 - val_acc: 0.6585\n",
      "Epoch 123/150\n",
      "153/153 [==============================] - 0s 306us/step - loss: 0.4734 - acc: 0.6993 - val_loss: 0.8073 - val_acc: 0.6553\n",
      "Epoch 124/150\n",
      "153/153 [==============================] - 0s 339us/step - loss: 0.4759 - acc: 0.7059 - val_loss: 0.7896 - val_acc: 0.6553\n",
      "Epoch 125/150\n",
      "153/153 [==============================] - 0s 231us/step - loss: 0.4785 - acc: 0.7255 - val_loss: 0.8281 - val_acc: 0.6602\n",
      "Epoch 126/150\n",
      "153/153 [==============================] - 0s 306us/step - loss: 0.4791 - acc: 0.7059 - val_loss: 0.8125 - val_acc: 0.6537\n",
      "Epoch 127/150\n",
      "153/153 [==============================] - 0s 306us/step - loss: 0.4782 - acc: 0.7451 - val_loss: 0.8299 - val_acc: 0.6569\n",
      "Epoch 128/150\n",
      "153/153 [==============================] - 0s 306us/step - loss: 0.4743 - acc: 0.7059 - val_loss: 0.8019 - val_acc: 0.6553\n",
      "Epoch 129/150\n",
      "153/153 [==============================] - 0s 204us/step - loss: 0.4705 - acc: 0.7124 - val_loss: 0.8101 - val_acc: 0.6634\n",
      "Epoch 130/150\n",
      "153/153 [==============================] - 0s 306us/step - loss: 0.4800 - acc: 0.7255 - val_loss: 0.7978 - val_acc: 0.6537\n",
      "Epoch 131/150\n",
      "153/153 [==============================] - 0s 306us/step - loss: 0.4724 - acc: 0.7190 - val_loss: 0.8143 - val_acc: 0.6634\n",
      "Epoch 132/150\n",
      "153/153 [==============================] - 0s 306us/step - loss: 0.4703 - acc: 0.7190 - val_loss: 0.7952 - val_acc: 0.6520\n",
      "Epoch 133/150\n",
      "153/153 [==============================] - 0s 204us/step - loss: 0.4682 - acc: 0.7124 - val_loss: 0.8095 - val_acc: 0.6618\n",
      "Epoch 134/150\n",
      "153/153 [==============================] - 0s 204us/step - loss: 0.4705 - acc: 0.7320 - val_loss: 0.8109 - val_acc: 0.6618\n",
      "Epoch 135/150\n",
      "153/153 [==============================] - 0s 306us/step - loss: 0.4670 - acc: 0.7190 - val_loss: 0.8029 - val_acc: 0.6585\n",
      "Epoch 136/150\n",
      "153/153 [==============================] - 0s 306us/step - loss: 0.4812 - acc: 0.7059 - val_loss: 0.8167 - val_acc: 0.6569\n",
      "Epoch 137/150\n",
      "153/153 [==============================] - 0s 306us/step - loss: 0.4814 - acc: 0.7124 - val_loss: 0.7980 - val_acc: 0.6472\n",
      "Epoch 138/150\n",
      "153/153 [==============================] - 0s 204us/step - loss: 0.4709 - acc: 0.7320 - val_loss: 0.8174 - val_acc: 0.6520\n",
      "Epoch 139/150\n",
      "153/153 [==============================] - 0s 306us/step - loss: 0.4693 - acc: 0.6993 - val_loss: 0.8121 - val_acc: 0.6407\n",
      "Epoch 140/150\n",
      "153/153 [==============================] - 0s 306us/step - loss: 0.4787 - acc: 0.7124 - val_loss: 0.8243 - val_acc: 0.6634\n",
      "Epoch 141/150\n",
      "153/153 [==============================] - 0s 306us/step - loss: 0.4687 - acc: 0.7255 - val_loss: 0.8403 - val_acc: 0.6634\n",
      "Epoch 142/150\n",
      "153/153 [==============================] - 0s 306us/step - loss: 0.4734 - acc: 0.7255 - val_loss: 0.8152 - val_acc: 0.6553\n",
      "Epoch 143/150\n",
      "153/153 [==============================] - 0s 306us/step - loss: 0.4860 - acc: 0.7059 - val_loss: 0.8081 - val_acc: 0.6472\n",
      "Epoch 144/150\n",
      "153/153 [==============================] - 0s 204us/step - loss: 0.4597 - acc: 0.7386 - val_loss: 0.8415 - val_acc: 0.6537\n",
      "Epoch 145/150\n",
      "153/153 [==============================] - 0s 306us/step - loss: 0.5033 - acc: 0.6928 - val_loss: 0.8285 - val_acc: 0.6439\n",
      "Epoch 146/150\n",
      "153/153 [==============================] - 0s 306us/step - loss: 0.4707 - acc: 0.7059 - val_loss: 0.8675 - val_acc: 0.6504\n",
      "Epoch 147/150\n",
      "153/153 [==============================] - 0s 312us/step - loss: 0.4696 - acc: 0.7059 - val_loss: 0.8200 - val_acc: 0.6472\n",
      "Epoch 148/150\n",
      "153/153 [==============================] - 0s 306us/step - loss: 0.4668 - acc: 0.7059 - val_loss: 0.8324 - val_acc: 0.6537\n",
      "Epoch 149/150\n",
      "153/153 [==============================] - 0s 306us/step - loss: 0.4701 - acc: 0.7190 - val_loss: 0.8190 - val_acc: 0.6520\n",
      "Epoch 150/150\n",
      "153/153 [==============================] - 0s 204us/step - loss: 0.4680 - acc: 0.7059 - val_loss: 0.8220 - val_acc: 0.6472\n"
     ]
    },
    {
     "data": {
      "text/plain": [
       "<keras.callbacks.History at 0x1d05de17eb8>"
      ]
     },
     "execution_count": 18,
     "metadata": {},
     "output_type": "execute_result"
    }
   ],
   "source": [
    "# Fit the model\n",
    "model.fit(X_train,y_train,validation_data=(X_test, y_test), epochs=150, batch_size=10)"
   ]
  },
  {
   "cell_type": "code",
   "execution_count": 19,
   "metadata": {},
   "outputs": [
    {
     "name": "stdout",
     "output_type": "stream",
     "text": [
      "615/615 [==============================] - 0s 25us/step\n",
      "Test Loss: 0.8219619867278308\n",
      "Test accuracy: 0.6471544718354698\n"
     ]
    }
   ],
   "source": [
    "score, acc = model.evaluate(X_test, y_test)\n",
    "print('Test Loss:', score)\n",
    "print('Test accuracy:', acc)"
   ]
  },
  {
   "cell_type": "markdown",
   "metadata": {},
   "source": [
    "**Typically you should have test accuracy less than of the train accuracy**"
   ]
  },
  {
   "cell_type": "markdown",
   "metadata": {},
   "source": [
    "## calculate predictions"
   ]
  },
  {
   "cell_type": "code",
   "execution_count": 26,
   "metadata": {},
   "outputs": [],
   "source": [
    "\n",
    "predictions = model.predict(X_test)\n"
   ]
  },
  {
   "cell_type": "code",
   "execution_count": 28,
   "metadata": {},
   "outputs": [
    {
     "name": "stdout",
     "output_type": "stream",
     "text": [
      "[0.0, 0.0, 1.0, 0.0, 0.0, 0.0, 0.0, 0.0, 0.0, 0.0, 1.0, 0.0, 1.0, 0.0, 0.0, 1.0, 0.0, 0.0, 1.0, 0.0, 0.0, 0.0, 0.0, 1.0, 0.0, 0.0, 0.0, 1.0, 0.0, 0.0, 0.0, 1.0, 0.0, 0.0, 0.0, 0.0, 0.0, 0.0, 0.0, 1.0, 0.0, 0.0, 0.0, 0.0, 0.0, 0.0, 1.0, 1.0, 0.0, 0.0, 1.0, 0.0, 1.0, 0.0, 0.0, 0.0, 1.0, 1.0, 1.0, 0.0, 1.0, 1.0, 1.0, 0.0, 0.0, 0.0, 0.0, 0.0, 1.0, 0.0, 0.0, 0.0, 0.0, 0.0, 1.0, 1.0, 0.0, 0.0, 0.0, 0.0, 0.0, 0.0, 0.0, 0.0, 0.0, 0.0, 0.0, 0.0, 0.0, 0.0, 1.0, 0.0, 0.0, 0.0, 0.0, 0.0, 0.0, 0.0, 0.0, 0.0, 0.0, 0.0, 0.0, 0.0, 0.0, 0.0, 1.0, 0.0, 0.0, 0.0, 0.0, 0.0, 0.0, 0.0, 0.0, 0.0, 0.0, 0.0, 0.0, 0.0, 0.0, 1.0, 1.0, 0.0, 0.0, 0.0, 0.0, 0.0, 0.0, 0.0, 0.0, 0.0, 0.0, 0.0, 0.0, 0.0, 1.0, 0.0, 0.0, 0.0, 1.0, 0.0, 0.0, 0.0, 1.0, 0.0, 0.0, 0.0, 0.0, 0.0, 0.0, 1.0, 1.0, 1.0, 0.0, 1.0, 0.0, 1.0, 0.0, 1.0, 1.0, 0.0, 0.0, 0.0, 1.0, 0.0, 0.0, 0.0, 0.0, 0.0, 1.0, 1.0, 0.0, 0.0, 0.0, 1.0, 1.0, 0.0, 0.0, 0.0, 0.0, 0.0, 0.0, 1.0, 0.0, 0.0, 0.0, 1.0, 0.0, 1.0, 1.0, 0.0, 0.0, 1.0, 0.0, 1.0, 1.0, 0.0, 0.0, 1.0, 1.0, 1.0, 0.0, 0.0, 0.0, 0.0, 0.0, 0.0, 0.0, 1.0, 0.0, 0.0, 0.0, 0.0, 1.0, 0.0, 1.0, 0.0, 0.0, 0.0, 0.0, 1.0, 0.0, 1.0, 1.0, 0.0, 0.0, 0.0, 0.0, 1.0, 0.0, 0.0, 0.0, 0.0, 0.0, 0.0, 0.0, 1.0, 1.0, 1.0, 0.0, 1.0, 0.0, 0.0, 1.0, 0.0, 1.0, 1.0, 0.0, 0.0, 1.0, 0.0, 1.0, 1.0, 0.0, 1.0, 0.0, 0.0, 0.0, 0.0, 0.0, 0.0, 0.0, 0.0, 0.0, 0.0, 0.0, 0.0, 0.0, 0.0, 1.0, 0.0, 0.0, 0.0, 0.0, 0.0, 0.0, 1.0, 0.0, 1.0, 0.0, 1.0, 0.0, 0.0, 1.0, 0.0, 0.0, 1.0, 1.0, 1.0, 1.0, 0.0, 0.0, 0.0, 0.0, 0.0, 0.0, 0.0, 0.0, 0.0, 0.0, 1.0, 0.0, 1.0, 0.0, 0.0, 0.0, 0.0, 0.0, 0.0, 0.0, 0.0, 0.0, 0.0, 0.0, 0.0, 0.0, 0.0, 0.0, 1.0, 0.0, 0.0, 0.0, 0.0, 0.0, 0.0, 0.0, 0.0, 0.0, 1.0, 0.0, 0.0, 1.0, 0.0, 0.0, 1.0, 1.0, 0.0, 0.0, 0.0, 0.0, 1.0, 0.0, 0.0, 0.0, 0.0, 0.0, 0.0, 1.0, 0.0, 1.0, 0.0, 0.0, 0.0, 1.0, 0.0, 0.0, 0.0, 0.0, 0.0, 1.0, 0.0, 0.0, 0.0, 0.0, 0.0, 0.0, 1.0, 0.0, 0.0, 0.0, 0.0, 0.0, 0.0, 0.0, 0.0, 0.0, 1.0, 1.0, 0.0, 0.0, 0.0, 0.0, 0.0, 0.0, 0.0, 1.0, 0.0, 0.0, 0.0, 0.0, 0.0, 0.0, 0.0, 0.0, 1.0, 0.0, 0.0, 0.0, 0.0, 0.0, 1.0, 0.0, 1.0, 0.0, 0.0, 1.0, 0.0, 0.0, 0.0, 0.0, 1.0, 0.0, 0.0, 0.0, 1.0, 0.0, 1.0, 0.0, 1.0, 0.0, 0.0, 0.0, 0.0, 0.0, 0.0, 0.0, 0.0, 0.0, 0.0, 0.0, 0.0, 0.0, 0.0, 1.0, 1.0, 1.0, 0.0, 0.0, 0.0, 0.0, 0.0, 0.0, 0.0, 1.0, 0.0, 0.0, 0.0, 0.0, 0.0, 1.0, 0.0, 0.0, 0.0, 0.0, 0.0, 0.0, 0.0, 0.0, 0.0, 1.0, 0.0, 0.0, 0.0, 1.0, 0.0, 0.0, 0.0, 0.0, 1.0, 0.0, 1.0, 1.0, 0.0, 0.0, 0.0, 0.0, 0.0, 0.0, 0.0, 0.0, 1.0, 0.0, 0.0, 0.0, 0.0, 1.0, 1.0, 0.0, 0.0, 0.0, 0.0, 0.0, 1.0, 0.0, 0.0, 1.0, 0.0, 0.0, 0.0, 0.0, 0.0, 0.0, 1.0, 0.0, 0.0, 0.0, 0.0, 1.0, 0.0, 0.0, 0.0, 0.0, 0.0, 0.0, 1.0, 1.0, 1.0, 0.0, 0.0, 1.0, 0.0, 0.0, 0.0, 0.0, 0.0, 0.0, 0.0, 0.0, 0.0, 1.0, 0.0, 0.0, 0.0, 1.0, 1.0, 0.0, 0.0, 0.0, 0.0, 0.0, 0.0, 0.0, 0.0, 0.0, 0.0, 0.0, 0.0, 0.0, 0.0, 0.0, 1.0, 0.0, 0.0, 0.0, 0.0, 0.0, 0.0, 0.0, 0.0, 1.0, 0.0, 0.0, 0.0, 0.0, 0.0, 0.0, 1.0, 0.0, 0.0, 0.0, 0.0, 0.0, 0.0, 0.0, 0.0, 0.0, 1.0, 1.0, 0.0, 0.0, 0.0, 0.0, 0.0, 0.0, 0.0, 0.0, 0.0, 0.0, 1.0, 0.0, 0.0, 0.0, 0.0, 0.0, 1.0, 0.0, 0.0, 0.0, 0.0, 1.0, 0.0, 0.0, 0.0, 0.0, 0.0, 0.0, 0.0, 0.0, 0.0, 0.0, 0.0, 0.0, 1.0, 0.0]\n"
     ]
    }
   ],
   "source": [
    "# round predictions\n",
    "rounded = [round(X_test[0]) for X_test in predictions]\n",
    "print(rounded)"
   ]
  },
  {
   "cell_type": "markdown",
   "metadata": {},
   "source": [
    "## Null accuracy"
   ]
  },
  {
   "cell_type": "code",
   "execution_count": 20,
   "metadata": {},
   "outputs": [
    {
     "data": {
      "text/plain": [
       "0    403\n",
       "1    212\n",
       "Name: Outcome, dtype: int64"
      ]
     },
     "execution_count": 20,
     "metadata": {},
     "output_type": "execute_result"
    }
   ],
   "source": [
    "# examine the class distribution of the testing set (using a Pandas Series method)\n",
    "y_test.value_counts()"
   ]
  },
  {
   "cell_type": "code",
   "execution_count": 21,
   "metadata": {},
   "outputs": [
    {
     "data": {
      "text/plain": [
       "0.34471544715447155"
      ]
     },
     "execution_count": 21,
     "metadata": {},
     "output_type": "execute_result"
    }
   ],
   "source": [
    "# calculate the percentage of ones\n",
    "y_test.mean()"
   ]
  },
  {
   "cell_type": "code",
   "execution_count": 22,
   "metadata": {},
   "outputs": [
    {
     "data": {
      "text/plain": [
       "0.6552845528455284"
      ]
     },
     "execution_count": 22,
     "metadata": {},
     "output_type": "execute_result"
    }
   ],
   "source": [
    "# calculate the percentage of zeros\n",
    "1 - y_test.mean()"
   ]
  },
  {
   "cell_type": "code",
   "execution_count": 23,
   "metadata": {},
   "outputs": [
    {
     "data": {
      "text/plain": [
       "0.6552845528455284"
      ]
     },
     "execution_count": 23,
     "metadata": {},
     "output_type": "execute_result"
    }
   ],
   "source": [
    "# calculate null accuracy (for binary classification problems coded as 0/1)\n",
    "max(y_test.mean(), 1 - y_test.mean())"
   ]
  },
  {
   "cell_type": "markdown",
   "metadata": {},
   "source": [
    "**So, thats our null accuracy and seeing what our model did , it didnt seem an impressive effort**"
   ]
  },
  {
   "cell_type": "code",
   "execution_count": null,
   "metadata": {},
   "outputs": [],
   "source": []
  }
 ],
 "metadata": {
  "kernelspec": {
   "display_name": "Python 3",
   "language": "python",
   "name": "python3"
  },
  "language_info": {
   "codemirror_mode": {
    "name": "ipython",
    "version": 3
   },
   "file_extension": ".py",
   "mimetype": "text/x-python",
   "name": "python",
   "nbconvert_exporter": "python",
   "pygments_lexer": "ipython3",
   "version": "3.6.5"
  }
 },
 "nbformat": 4,
 "nbformat_minor": 2
}
